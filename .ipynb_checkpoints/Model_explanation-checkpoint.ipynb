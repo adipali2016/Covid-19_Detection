{
 "cells": [
  {
   "cell_type": "code",
   "execution_count": 1,
   "metadata": {},
   "outputs": [],
   "source": [
    "from keras.preprocessing import image\n",
    "from keras.models import load_model\n",
    "import os\n",
    "import numpy as np"
   ]
  },
  {
   "cell_type": "code",
   "execution_count": 2,
   "metadata": {},
   "outputs": [
    {
     "name": "stderr",
     "output_type": "stream",
     "text": [
      "C:\\Users\\asus\\anaconda3\\lib\\site-packages\\keras\\engine\\sequential.py:450: UserWarning: `model.predict_classes()` is deprecated and will be removed after 2021-01-01. Please use instead:* `np.argmax(model.predict(x), axis=-1)`,   if your model does multi-class classification   (e.g. if it uses a `softmax` last-layer activation).* `(model.predict(x) > 0.5).astype(\"int32\")`,   if your model does binary classification   (e.g. if it uses a `sigmoid` last-layer activation).\n",
      "  warnings.warn('`model.predict_classes()` is deprecated and '\n",
      "C:\\Users\\asus\\anaconda3\\lib\\site-packages\\keras\\engine\\sequential.py:450: UserWarning: `model.predict_classes()` is deprecated and will be removed after 2021-01-01. Please use instead:* `np.argmax(model.predict(x), axis=-1)`,   if your model does multi-class classification   (e.g. if it uses a `softmax` last-layer activation).* `(model.predict(x) > 0.5).astype(\"int32\")`,   if your model does binary classification   (e.g. if it uses a `sigmoid` last-layer activation).\n",
      "  warnings.warn('`model.predict_classes()` is deprecated and '\n"
     ]
    }
   ],
   "source": [
    "model = load_model(\"Model.h5\")\n",
    "y_actual = []\n",
    "y_test = []\n",
    "\n",
    "for i in os.listdir(\"./Data/test/COVID19\"):\n",
    "  img = image.load_img(\"./Data/test/COVID19/\"+i,target_size=(224,224,3))\n",
    "  img = image.img_to_array(img)\n",
    "  img = np.expand_dims(img,axis=0)\n",
    "  p = model.predict_classes(img)\n",
    "  y_test.append(p[0,0])\n",
    "  y_actual.append(0)\n",
    "\n",
    "for i in os.listdir(\"./Data/test/NORMAL\"):\n",
    "  img = image.load_img(\"./Data/test/NORMAL/\"+i,target_size=(224,224,3))\n",
    "  img = image.img_to_array(img)\n",
    "  img = np.expand_dims(img,axis=0)\n",
    "  p = model.predict_classes(img)\n",
    "  y_test.append(p[0,0])\n",
    "  y_actual.append(1)"
   ]
  },
  {
   "cell_type": "code",
   "execution_count": 3,
   "metadata": {},
   "outputs": [
    {
     "name": "stdout",
     "output_type": "stream",
     "text": [
      "              precision    recall  f1-score   support\n",
      "\n",
      "           0       0.91      0.91      0.91       116\n",
      "           1       0.97      0.97      0.97       317\n",
      "\n",
      "    accuracy                           0.95       433\n",
      "   macro avg       0.94      0.94      0.94       433\n",
      "weighted avg       0.95      0.95      0.95       433\n",
      "\n"
     ]
    }
   ],
   "source": [
    "from sklearn.metrics import classification_report\n",
    "print(classification_report(y_actual, y_test))"
   ]
  },
  {
   "cell_type": "code",
   "execution_count": null,
   "metadata": {},
   "outputs": [],
   "source": []
  }
 ],
 "metadata": {
  "kernelspec": {
   "display_name": "Python 3",
   "language": "python",
   "name": "python3"
  },
  "language_info": {
   "codemirror_mode": {
    "name": "ipython",
    "version": 3
   },
   "file_extension": ".py",
   "mimetype": "text/x-python",
   "name": "python",
   "nbconvert_exporter": "python",
   "pygments_lexer": "ipython3",
   "version": "3.8.5"
  }
 },
 "nbformat": 4,
 "nbformat_minor": 4
}
